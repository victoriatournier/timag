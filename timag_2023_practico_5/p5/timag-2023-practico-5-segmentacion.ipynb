{
 "cells": [
  {
   "attachments": {},
   "cell_type": "markdown",
   "metadata": {},
   "source": [
    "# Tratamiento de imágenes - 2023 - Trabajos prácticos\n",
    "# Práctico 5  –  Segmentación"
   ]
  },
  {
   "cell_type": "code",
   "execution_count": null,
   "metadata": {},
   "outputs": [],
   "source": [
    "import numpy as np\n",
    "from skimage.io import imread, imsave\n",
    "from matplotlib import pyplot as plt"
   ]
  },
  {
   "cell_type": "markdown",
   "metadata": {},
   "source": [
    "## Detección de bordes, líneas y segmentos "
   ]
  },
  {
   "cell_type": "markdown",
   "metadata": {},
   "source": [
    "### 1) Detección de bordes   \n",
    "a) Calcular el gradiente de una imagen con un filtro tipo Sobel."
   ]
  },
  {
   "cell_type": "code",
   "execution_count": null,
   "metadata": {},
   "outputs": [],
   "source": [
    "\n",
    "def filtrarSobel(I):\n",
    "    \n",
    "    # IMPLEMENTAR\n",
    "\n",
    "    return Ix, Iy\n"
   ]
  },
  {
   "cell_type": "markdown",
   "metadata": {},
   "source": [
    "b) Desplegar modulo y fase del gradiente y la imagen binaria de candidatos a borde obtenida con distintos niveles de umbralización."
   ]
  },
  {
   "cell_type": "code",
   "execution_count": null,
   "metadata": {},
   "outputs": [],
   "source": []
  },
  {
   "cell_type": "markdown",
   "metadata": {},
   "source": [
    "c) Sobre el filtro anterior implementar algún mecanismo de histéresis con los umbrales para intentar mantener conectividad en los bordes."
   ]
  },
  {
   "cell_type": "code",
   "execution_count": null,
   "metadata": {},
   "outputs": [],
   "source": [
    "def nonMaximumSuppressionAndHysteresisThresholding(I, umbralInferior, umbralSuperior):\n",
    "    \n",
    "    # IMPLEMENTAR\n",
    "   \n",
    "    ######################            Non Maximum Suppression                   ################################\n",
    "    # El pixel en la posición (i,j) es conservado como candidato a borde si la magnitud del gradiente es mayor que \n",
    "    # la de sus dos vecinos en la dirección del gradiente. Si el pixel no es un máximo local, \n",
    "    # la magnitud de su gradiente es llevada a cero (\"suprimido\")\n",
    "    \n",
    "    ######################            Hysteresis Thresholding                   ################################\n",
    "    # Proceso iterativo en que se marcan como pertenecientes a los bordes aquellos píxeles cuya magnitud del gradiente \n",
    "    # supera el umbral superior y sus vecinos que superan el umbral inferior. Serán considerados como parte de un borde\n",
    "    # aquellas \"trazas\" que contengan al menos un pixel que supere el umbral superior y no contenga píxeles con magnitud \n",
    "    # del gradiente inferior al umbral inferior\n",
    "    \n",
    "    return imagenBinaria"
   ]
  },
  {
   "cell_type": "code",
   "execution_count": null,
   "metadata": {},
   "outputs": [],
   "source": []
  },
  {
   "cell_type": "markdown",
   "metadata": {},
   "source": [
    "### 2) Detección de líneas    "
   ]
  },
  {
   "cell_type": "markdown",
   "metadata": {},
   "source": [
    "a) Implementar detección de lineas con la transformada de Hough."
   ]
  },
  {
   "cell_type": "code",
   "execution_count": null,
   "metadata": {},
   "outputs": [],
   "source": [
    "def detectarLineasHough(I, deltaRho, deltaTheta, umbralVotos):\n",
    "    \n",
    "    # Implementar\n",
    "    \n",
    "    return rhos, thetas # devuelve los rho y theta de las rectas detectadas"
   ]
  },
  {
   "cell_type": "markdown",
   "metadata": {},
   "source": [
    "b) Discutir resultados al variar resolución en el espacio de parámetros (Δθ y Δρ) y el umbral sobre el número de votos."
   ]
  },
  {
   "cell_type": "code",
   "execution_count": null,
   "metadata": {},
   "outputs": [],
   "source": []
  },
  {
   "cell_type": "markdown",
   "metadata": {},
   "source": [
    "### 3) Detección de segmentos    \n",
    "a) Detectar segmentos utilizando LSD  http://www.ipol.im/pub/algo/gjmr_line_segment_detector/. Muestre el funcionamiento del detector LSD corriéndolo sobre algunas imágenes de ejemplo.    \n",
    "\n",
    "Se sugiere utilizar la implementación de IPOL (requiere compilar y correr en línea de comando) o alguna adaptación python (por ej. https://github.com/AndranikSargsyan/pylsd-nova).   \n",
    "LSD no está disponible en las versiones recientes de OpenCV. Como alternativa, OpenCV cuenta con otro detector de performance algo inferior: FastLineDetector"
   ]
  },
  {
   "cell_type": "code",
   "execution_count": null,
   "metadata": {},
   "outputs": [],
   "source": []
  },
  {
   "cell_type": "markdown",
   "metadata": {},
   "source": [
    "b) Compare los resultados con los de la parte 2"
   ]
  },
  {
   "cell_type": "markdown",
   "metadata": {},
   "source": [
    "Respuesta: ..."
   ]
  },
  {
   "cell_type": "markdown",
   "metadata": {},
   "source": [
    "### 4) Detección de círculos\n",
    "a) Utilizar la transformada de Hough para detectar círculos\n",
    "\n",
    "Imágenes sugeridas: kandinsky17.jpg, kandinsky28.jpg"
   ]
  },
  {
   "cell_type": "code",
   "execution_count": null,
   "metadata": {},
   "outputs": [],
   "source": [
    "def detectarCirculosHough(I, pasoCentro, pasoRadio, umbralVotos):\n",
    "    \n",
    "    # Implementar\n",
    "    \n",
    "    return centros, radios # devuelve los centros y los radios de los círculos detectados"
   ]
  },
  {
   "cell_type": "code",
   "execution_count": null,
   "metadata": {},
   "outputs": [],
   "source": []
  },
  {
   "cell_type": "markdown",
   "metadata": {},
   "source": [
    "## Detección de regiones"
   ]
  },
  {
   "cell_type": "markdown",
   "metadata": {},
   "source": [
    "### 5) Binarización automática"
   ]
  },
  {
   "cell_type": "markdown",
   "metadata": {},
   "source": [
    "1) Dada una imagen, realizar la binarización mediante el uso de un umbral calculado automáticamente a partir del histograma.   \n",
    "Implementar para esto el algoritmo de Otsu.     \n",
    "http://en.wikipedia.org/wiki/Otsu%27s_method\n",
    "\n",
    "Imágenes sugeridas: globulosA, globulosB, celula, pieces, myelin"
   ]
  },
  {
   "cell_type": "code",
   "execution_count": null,
   "metadata": {},
   "outputs": [],
   "source": [
    "def otsu(histograma):\n",
    "\n",
    "    # Implementar\n",
    "    \n",
    "    return umbral"
   ]
  },
  {
   "cell_type": "markdown",
   "metadata": {},
   "source": [
    "### 6) Morfología matemática"
   ]
  },
  {
   "cell_type": "markdown",
   "metadata": {},
   "source": [
    "1) Explicar qué son y para qué se usan las operaciones de erosión, dilatación, apertura y cerradura.  "
   ]
  },
  {
   "cell_type": "markdown",
   "metadata": {},
   "source": [
    "2) Utilizar operaciones morfológicas a fin de obtener regiones des-conexas y eliminar ruidos sobre alguna imagen binarizada automáticamente. \n",
    "\n",
    "Se sugiere utilizar las implementaciones de scipy.ndimage"
   ]
  },
  {
   "cell_type": "code",
   "execution_count": null,
   "metadata": {},
   "outputs": [],
   "source": [
    "from scipy import ndimage\n",
    "\n"
   ]
  },
  {
   "cell_type": "markdown",
   "metadata": {},
   "source": [
    "### 7) Etiquetado"
   ]
  },
  {
   "cell_type": "markdown",
   "metadata": {},
   "source": [
    "a) Implementar el etiquetado de regiones de una imagen binaria.  \n",
    "Verificar el correcto funcionamiento con la imagen “para_etiquetar.bmp” (tiene cuatro regiones negras con conectividad 8 vecinos sobre fondo blanco)."
   ]
  },
  {
   "cell_type": "code",
   "execution_count": null,
   "metadata": {},
   "outputs": [],
   "source": [
    "def etiquetar(I, conectividad=8):\n",
    "                     \n",
    "    # Implementar\n",
    "    \n",
    "    return I_etiquetada"
   ]
  },
  {
   "cell_type": "code",
   "execution_count": null,
   "metadata": {},
   "outputs": [],
   "source": [
    "I=imread('imagenes/para_etiquetar.bmp',as_gray=True)\n",
    "plt.figure()\n",
    "plt.imshow(I,cmap='gray')"
   ]
  },
  {
   "cell_type": "markdown",
   "metadata": {},
   "source": [
    "b) Utilizar el etiquetado implementado en (a) sobre las imágenes de prueba previamente preprocesadas en (5) y (6). Utilizar el etiquetado para el conteo de objetos."
   ]
  },
  {
   "cell_type": "code",
   "execution_count": null,
   "metadata": {},
   "outputs": [],
   "source": []
  },
  {
   "cell_type": "markdown",
   "metadata": {},
   "source": [
    "### 8) Detección y medida de particulas en Fiji\n",
    "\n",
    "Estudiar el tutorial https://imagej.net/imaging/watershed  \n",
    "Aplicar a alguna de las imágenes sugeridas en (5)"
   ]
  },
  {
   "cell_type": "code",
   "execution_count": null,
   "metadata": {},
   "outputs": [],
   "source": []
  },
  {
   "cell_type": "markdown",
   "metadata": {
    "collapsed": true
   },
   "source": [
    "## Aplicaciones\n",
    "\n",
    "Algunas aplicaciones que se pueden encarar con las herramientas del práctico  "
   ]
  },
  {
   "cell_type": "markdown",
   "metadata": {},
   "source": [
    "### 9) Detección de código de barras \n",
    "\n",
    "Detectar la ubicación del código de barras en la imagen y devolver un recuadro alrededor del mismo.  \n",
    "a) sobre imágenes donde el código de barras está horzontal  \n",
    "b) sobre imágenes donde el código de barras puede estar girado\n",
    "\n"
   ]
  },
  {
   "cell_type": "code",
   "execution_count": null,
   "metadata": {},
   "outputs": [],
   "source": []
  },
  {
   "cell_type": "markdown",
   "metadata": {},
   "source": [
    "### 10) Detección de tablero de ajedrez \n",
    "\n",
    "Detectar la ubicación del tablero de ajedrez y devolver un recuadro alrededor del mismo\n",
    "\n",
    "Una vez detectado el tablero, devolver una imágen rectificada (el tablero como visto de arriba)\n"
   ]
  },
  {
   "cell_type": "code",
   "execution_count": null,
   "metadata": {},
   "outputs": [],
   "source": []
  }
 ],
 "metadata": {
  "kernelspec": {
   "display_name": "Python 3",
   "language": "python",
   "name": "python3"
  },
  "language_info": {
   "codemirror_mode": {
    "name": "ipython",
    "version": 3
   },
   "file_extension": ".py",
   "mimetype": "text/x-python",
   "name": "python",
   "nbconvert_exporter": "python",
   "pygments_lexer": "ipython3",
   "version": "3.9.6"
  },
  "latex_envs": {
   "LaTeX_envs_menu_present": true,
   "autoclose": false,
   "autocomplete": true,
   "bibliofile": "biblio.bib",
   "cite_by": "apalike",
   "current_citInitial": 1,
   "eqLabelWithNumbers": true,
   "eqNumInitial": 1,
   "hotkeys": {
    "equation": "Ctrl-E",
    "itemize": "Ctrl-I"
   },
   "labels_anchors": false,
   "latex_user_defs": false,
   "report_style_numbering": false,
   "user_envs_cfg": false
  },
  "toc": {
   "base_numbering": 1,
   "nav_menu": {},
   "number_sections": false,
   "sideBar": true,
   "skip_h1_title": false,
   "title_cell": "Table of Contents",
   "title_sidebar": "Contents",
   "toc_cell": false,
   "toc_position": {
    "height": "calc(100% - 180px)",
    "left": "10px",
    "top": "150px",
    "width": "254.167px"
   },
   "toc_section_display": true,
   "toc_window_display": true
  },
  "varInspector": {
   "cols": {
    "lenName": 16,
    "lenType": 16,
    "lenVar": 40
   },
   "kernels_config": {
    "python": {
     "delete_cmd_postfix": "",
     "delete_cmd_prefix": "del ",
     "library": "var_list.py",
     "varRefreshCmd": "print(var_dic_list())"
    },
    "r": {
     "delete_cmd_postfix": ") ",
     "delete_cmd_prefix": "rm(",
     "library": "var_list.r",
     "varRefreshCmd": "cat(var_dic_list()) "
    }
   },
   "types_to_exclude": [
    "module",
    "function",
    "builtin_function_or_method",
    "instance",
    "_Feature"
   ],
   "window_display": false
  }
 },
 "nbformat": 4,
 "nbformat_minor": 1
}
