{
 "cells": [
  {
   "attachments": {},
   "cell_type": "markdown",
   "metadata": {},
   "source": [
    "# Tratamiento de imágenes - 2023 - Entregable 2\n",
    "\n",
    "# Fecha de entrega: 5/5/2023"
   ]
  },
  {
   "attachments": {},
   "cell_type": "markdown",
   "metadata": {},
   "source": [
    "### Importante:   \n",
    "En todos los ejercicios se espera que se entregue comentarios sobre decisiones tomadas en la implementación así como un análisis de los resultados. Estos comentarios y análisis se pueden entregar en celdas de texto agregadas a los notebooks o en un informe aparte.\n",
    "\n",
    "Para la entrega se sube un **zip** (no rar, ni otro formato) con:\n",
    "* El notebook del entregable modificado. El notebook debe tener las celdas ejecutadas con las salidas correspondientes. Debe tener todo lo necesario para poder ser ejecutado nuevamente\n",
    "* Todo el resto del contenido del zip del entregable. Si, para mostrar resultados, usan en el notebook imágenes propias, deben incluirlas en la carpeta **imagenes**  del zip. \n",
    "* El informe en pdf en caso de no incluir las discusiones dentro del notebook en celdas \"Markdown\", o si les resulta más sencillo realizar el análisis en un documento aparte.\n",
    "\n",
    "No se deben incluir en el zip de la entrega las imágenes de prueba que están disponibles en la página web del curso. Se asumirá que esas imágenes están en un directorio y se hará referencia a dichas imágenes en forma relativa a ese directorio (ver la celda siguiente)."
   ]
  },
  {
   "cell_type": "code",
   "execution_count": null,
   "metadata": {},
   "outputs": [],
   "source": [
    "import os\n",
    "import numpy as np\n",
    "from matplotlib import pyplot as plt\n",
    "from skimage.io import imread, imsave\n",
    "\n",
    "# FORMAS DE VER LAS GRAFICAS --------------------\n",
    "# ELEGIR UNA DE LAS OPCIONES Y DES-COMENTAR (sacar # de la linea)\n",
    "# ----------------\n",
    "# a) graficas en línea  entre las celdas (no interactivo)\n",
    "%matplotlib inline\n",
    "# ---------------- \n",
    "# b) graficas en línea  entre las celdas (interactivo)\n",
    "# %matplotlib notebook\n",
    "# ----------------\n",
    "# c) graficas en ventanas externas (abre una ventana por cada figura)\n",
    "# %matplotlib\n",
    "# ----------------\n",
    "# d) Si se usa \"jupyter lab\" en lugar de \"jupyter notebook\" usar %matplotlib widget en lugar de %matplotlib notebook \n",
    "# requiere instalar el modulo \"ipympl\". Ver https://stackoverflow.com/questions/51922480/javascript-error-ipython-is-not-defined-in-jupyterlab#56416229\n",
    "# %matplotlib widget\n",
    "#---------------------------------------------------\n",
    "\n",
    "\n",
    "\n",
    "# Directorio con la base de imágenes de prueba (las que están en la web de Timag)\n",
    "# Ej. si usan la imagen trapo.jpg en el notebook no tienen que subirla al eva\n",
    "# La llaman en el notebook en forma relativa a donde tengan esas imagenes:\n",
    "# \n",
    "# filename = os.path.join(dir_base_imagenes, 'trapo.jpg')\n",
    "# I = imread(filename)\n",
    "dir_base_imagenes = '../base_imagenes'\n",
    "\n",
    "\n",
    "# Directorio con la base de imágenes de documentos (para el ejercicio 5)\n",
    "# En el notebook acceden a esos datos en forma relativa a donde tengan esas imagenes:\n",
    "# \n",
    "# filename = os.path.join(dir_base_documentos, '0012183661.tif')\n",
    "# I = imread(filename)\n",
    "dir_base_documentos = '../base_documentos'\n"
   ]
  },
  {
   "cell_type": "markdown",
   "metadata": {},
   "source": [
    "## Transformaciones geométricas"
   ]
  },
  {
   "cell_type": "markdown",
   "metadata": {},
   "source": [
    "### 1. Implementar una función que realice transformaciones proyectivas"
   ]
  },
  {
   "cell_type": "code",
   "execution_count": null,
   "metadata": {},
   "outputs": [],
   "source": [
    "def bilineal(I, punto, color_de_fondo):\n",
    "    \"\"\"\n",
    "    Dado un punto de coordenadas no necesariamente enteras y una imagen I, \n",
    "    retorna la interpolación bilineal entre los cuatro pixeles de I más cercanos\n",
    "    al punto de entrada.\n",
    "    \n",
    "    Args:\n",
    "    - I (array 2D): Imagen de referencia para interpolar.\n",
    "    - punto (tuple/list): coordenadas en imagen en formato: punto = (fila,columna) ó punto = [fila,columna]\n",
    "    - color_de_fondo (int): en caso de que el punto está fuera de las dimensiones de la imagen,\n",
    "    se le asigna este valor por defecto.\n",
    "    \n",
    "    Returns:\n",
    "    valor_interpolado (int): valor interpolado en escala de grises para el punto. \n",
    "    \"\"\"\n",
    "    #implementar\n",
    "    \n",
    "    return valor_interpolado\n",
    "\n",
    "def vecino(img, punto, color_de_fondo):\n",
    "    \"\"\"\n",
    "    Dado un punto de coordenadas no necesariamente enteras y una imagen I, \n",
    "    retorna el nivel de gris correspondiente al pixel más cercano I.\n",
    "    \n",
    "    Args:\n",
    "    - I (array 2D): Imagen de referencia para interpolar.\n",
    "    - punto (tuple/list): coordenadas en imagen en formato: punto = (fila,columna) ó punto = [fila,columna]\n",
    "    - color_de_fondo (int): en caso de que el punto está fuera de las dimensiones de la imagen,\n",
    "    se le asigna este valor por defecto.\n",
    "    \n",
    "    Returns:\n",
    "    valor_interpolado (int): valor interpolado en escala de grises para el punto. \n",
    "    \"\"\"\n",
    "\n",
    "    #implementar\n",
    "    \n",
    "    return valor_interpolado\n",
    "\n",
    "def transformar(I, T, tipo_interpolacion='vecino', color_de_fondo=0):\n",
    "    \"\"\"\n",
    "    Aplicar una transformacion geometrica T a imagen I, especificando el tipo de interpolacion.\n",
    "    \n",
    "    Args:\n",
    "    - I (array 2D): imagen a transformar.\n",
    "    - T (array 2D): matriz de transformacion de tamaño 3x3.\n",
    "    - tipo_interpolacion (str): interpolación a utilizar: 'vecino' más cercano (default) o 'bilineal'.\n",
    "    - color_de_fondo (int): en caso de que el punto está fuera de las dimensiones de la imagen,\n",
    "    se le asigna este valor por defecto.\n",
    "    \n",
    "    Returns:\n",
    "    I_transformada (array 2D): imagen transformada\n",
    "    \n",
    "    \"\"\"\n",
    "    #implementar\n",
    "    \n",
    "    return I_transformada"
   ]
  },
  {
   "cell_type": "markdown",
   "metadata": {},
   "source": [
    "### 2. Usando la función transformar, mostrar ejemplos de transformaciones isométricas, afines y proyectivas  con diferentes interpolaciones\n",
    "\n",
    "Parecido a lo que se muestra en estos ejemplos de scikit-image:  \n",
    "https://scikit-image.org/docs/stable/auto_examples/transform/plot_transform_types.html\n"
   ]
  },
  {
   "cell_type": "markdown",
   "metadata": {},
   "source": [
    "#### Mostrar una rotación con origen en vértice superior izquierdo de la imagen (origen de coordenadas) "
   ]
  },
  {
   "cell_type": "code",
   "execution_count": null,
   "metadata": {},
   "outputs": [],
   "source": []
  },
  {
   "cell_type": "markdown",
   "metadata": {},
   "source": [
    "#### Mostrar una rotación con origen en el centro de la imagen\n",
    "La transformación de rotación en el centro de la imagen puede calcularse como la composición de una traslación, una rotación y una traslación.  "
   ]
  },
  {
   "cell_type": "code",
   "execution_count": null,
   "metadata": {},
   "outputs": [],
   "source": [
    "# Muestre las matrices correspondientes a las tres transformaciones \n",
    "\n",
    "\n",
    "\n",
    "# Calcule la matriz de rotación en el centro como la composición de las tres transformaciones anteriores\n",
    "\n",
    "\n",
    "\n",
    "# Aplique la transformación y muestre el resultado\n",
    "\n"
   ]
  },
  {
   "cell_type": "markdown",
   "metadata": {},
   "source": [
    "#### Mostrar una transformación afin "
   ]
  },
  {
   "cell_type": "code",
   "execution_count": null,
   "metadata": {},
   "outputs": [],
   "source": []
  },
  {
   "cell_type": "markdown",
   "metadata": {},
   "source": [
    "#### Mostrar una transformación proyectiva"
   ]
  },
  {
   "cell_type": "code",
   "execution_count": null,
   "metadata": {},
   "outputs": [],
   "source": []
  },
  {
   "cell_type": "markdown",
   "metadata": {},
   "source": [
    "### 3. Implementar el cálculo de una matriz de transformación proyectiva a partir de un conjunto de  4 o más puntos correspondientes\n",
    "Para chequear su implementación se puede comparar el resultado con cv2.findHomography por ejemplo\n"
   ]
  },
  {
   "cell_type": "code",
   "execution_count": null,
   "metadata": {},
   "outputs": [],
   "source": [
    "# Entradas:\n",
    "#    puntosA   Nx2\n",
    "#    puntosB   Nx2\n",
    "#    con N>=4\n",
    "# Salida\n",
    "#    H         3x3    \n",
    "def calcular_homografia(puntosA, puntosB):\n",
    "    #implementar\n",
    "    \n",
    "    return H\n",
    "    "
   ]
  },
  {
   "cell_type": "code",
   "execution_count": null,
   "metadata": {},
   "outputs": [],
   "source": []
  },
  {
   "cell_type": "markdown",
   "metadata": {},
   "source": [
    "#### Chequear la función implementada"
   ]
  },
  {
   "cell_type": "code",
   "execution_count": null,
   "metadata": {},
   "outputs": [],
   "source": [
    "# chequear la función calcularHomografía con un conjunto de puntos N=4\n",
    "origen =  np.array([(0,0), (0,100), (100, 100), (100, 0)])\n",
    "destino = np.array([(0,0), (0,100), (100, 50),  (100, 0)])\n",
    "print(origen)\n",
    "print(destino)\n",
    "\n",
    "# calcular la homografía\n",
    "\n",
    "\n",
    "# aplicar a los puntos origen y verificar si el resultado son los puntos destino\n",
    "\n",
    "\n"
   ]
  },
  {
   "cell_type": "code",
   "execution_count": null,
   "metadata": {},
   "outputs": [],
   "source": [
    "# chequear la función calcularHomografía con un conjunto de puntos N>4\n",
    "origen =  np.array([(0,0), (0,52), (0,100), (100, 100), (100, 0)])\n",
    "destino = np.array([(0,0), (0,48), (0,100), (100, 50),  (100, 0)])\n",
    "print(origen)\n",
    "print(destino)\n",
    "\n",
    "\n",
    "# calcular la homografía\n",
    "\n",
    "\n",
    "# aplicar a los puntos origen y verificar si el resultado es cercano a los puntos destino\n"
   ]
  },
  {
   "cell_type": "code",
   "execution_count": null,
   "metadata": {},
   "outputs": [],
   "source": []
  },
  {
   "cell_type": "markdown",
   "metadata": {},
   "source": [
    "## Segmentación"
   ]
  },
  {
   "cell_type": "markdown",
   "metadata": {},
   "source": [
    "### 4. Detección de líneas con la transformada de Hough"
   ]
  },
  {
   "attachments": {},
   "cell_type": "markdown",
   "metadata": {},
   "source": [
    "   \n",
    "Se puede encontrar una buena explicación y pseudocódigo en los libros de [Burger & Burge](https://books.google.com.uy/books?id=YpzWCwAAQBAJ&printsec=frontcover#v=onepage&q&f=false).   \n",
    "Se sugiere seguir dicho pseudocódigo para la implementación."
   ]
  },
  {
   "attachments": {},
   "cell_type": "markdown",
   "metadata": {},
   "source": [
    "#### Dibujo de líneas"
   ]
  },
  {
   "cell_type": "code",
   "execution_count": null,
   "metadata": {},
   "outputs": [],
   "source": [
    "def plot_lineas_hough(fig, L)\n",
    "    '''\n",
    "    Grafica sobre la figura especificada las líneas definidas en L\n",
    "\n",
    "    Args\n",
    "    ----\n",
    "    fig : Numero de la figura de matplotlib donde se plotean las líneas\n",
    "    L :   [[theta, rho, votos], [theta, rho, votos], .....]\n",
    "          Lista de rectas detectadas con la función lineas_hough \n",
    "\n",
    "    Returns\n",
    "    -------\n",
    "    Nothing\n",
    "\n",
    "    '''\n",
    "    \n",
    "    # Implementar"
   ]
  },
  {
   "attachments": {},
   "cell_type": "markdown",
   "metadata": {},
   "source": [
    "#### Mostrar el funcionamiento de plot_lineas_hough para distintos valores theta-rho\n",
    "Notar que se puede implementar y probar **plot_lineas_hough** antes de implementar **lineas_hough**.  \n",
    "Se sugiere dejar andando correctamente **plot_lineas_hough** primero. Esto permitirá luego probar rápidamente los resultados de **lineas_hough**.\n",
    "  "
   ]
  },
  {
   "cell_type": "code",
   "execution_count": null,
   "metadata": {},
   "outputs": [],
   "source": [
    "# Imagen vacía a plottear\n",
    "zeros = np.zeros((250,250))\n",
    "\n",
    "# líneas horizontal y vertical que pasan por la mitad de la imagen\n",
    "lineas = [[0,0],[0,np.pi/2]]    \n",
    "# lineas separadas por un ángulo de pi/8 radianes\n",
    "lineas2 = [[0,0],[0,np.pi/8],[0,np.pi/4],[0,3*np.pi/8],[0,np.pi/2],[0,5*np.pi/8],[0,3*np.pi/4],[0,7*np.pi/8]] \n",
    "\n",
    "# Inicializar figura\n",
    "fig, ax = plt.subplots(1,2,figsize=(8,3))\n",
    "# Plot lineas\n",
    "plot_lineas_hough(ax[0],zeros, lineas)\n",
    "ax[0].set_title(\"Lineas\")\n",
    "# Plot lineas2\n",
    "plot_lineas_hough(ax[1],zeros, lineas2)\n",
    "ax[1].set_title(\"Otras lineas\")\n",
    "fig.tight_layout()\n",
    "plt.show()"
   ]
  },
  {
   "attachments": {},
   "cell_type": "markdown",
   "metadata": {},
   "source": [
    "Las imágenes de salida deberían ser del estilo:\n",
    "\n",
    "\n",
    "![Alt text](imagenes/output_plot_hough.png)"
   ]
  },
  {
   "cell_type": "code",
   "execution_count": null,
   "metadata": {},
   "outputs": [],
   "source": []
  },
  {
   "cell_type": "code",
   "execution_count": null,
   "metadata": {},
   "outputs": [],
   "source": []
  },
  {
   "attachments": {},
   "cell_type": "markdown",
   "metadata": {},
   "source": [
    "#### Detección de líneas"
   ]
  },
  {
   "cell_type": "code",
   "execution_count": null,
   "metadata": {},
   "outputs": [],
   "source": [
    "\n",
    "    \n",
    "\n",
    "def lineas_hough(I, m, n, minimo_votos, debug=False):\n",
    "    '''\n",
    "    Detección de líneas mediante la Transformada de Hough\n",
    "    \n",
    "    Args\n",
    "    ----\n",
    "    I : imagen binaria (resultado de un detector de bordes por ejemplo)\n",
    "    m, n : Enteros que determinan las dimensiones del acumulador\n",
    "           m: cantidad de pasos en Theta\n",
    "           n: cantidad de pasos en Rho\n",
    "    minimo_votos : Cantidad mínima de votos que debe tener una recta \n",
    "    debug : Booleano opcional. En caso de ser verdadero, se muestra la imagen del acumulador\n",
    "    \n",
    "    Returns\n",
    "    -------\n",
    "    L : [[theta, rho, votos], [theta, rho, votos], .....]\n",
    "        Lista con las rectas detectadas donde cada elemento de la lista es una terna [theta, rho, votos]\n",
    "        La lista está ordenada en forma decreciente en la cantidad de votos \n",
    "\n",
    "    '''\n",
    "    \n",
    "    # Implementar\n",
    "    \n",
    "    return L\n",
    "\n"
   ]
  },
  {
   "cell_type": "markdown",
   "metadata": {},
   "source": [
    "\n"
   ]
  },
  {
   "cell_type": "markdown",
   "metadata": {},
   "source": [
    "#### Mostrar el funcionamiento de lineas_hough sobre imágenes artificiales \n",
    "Para cada imagen artificial:   \n",
    "a) detectar líneas  \n",
    "b) mostrar el acumulador y plotear las rectas    \n",
    "c) relacionar el contenido del acumulador con las rectas correspondientes    "
   ]
  },
  {
   "cell_type": "code",
   "execution_count": null,
   "metadata": {},
   "outputs": [],
   "source": [
    "#Ejemplo 1 \n",
    "I = np.zeros((200,300), dtype=np.uint8)\n",
    "I[50,50]=255\n",
    "I[50,250]=255\n",
    "\n",
    "plt.figure()\n",
    "plt.imshow(I)\n"
   ]
  },
  {
   "cell_type": "code",
   "execution_count": null,
   "metadata": {},
   "outputs": [],
   "source": [
    "#Ejemplo 2\n",
    "I = np.zeros((200,300), dtype=np.uint8)\n",
    "I[50,50]=255\n",
    "I[150,50]=255\n",
    "\n",
    "plt.figure()\n",
    "plt.imshow(I)"
   ]
  },
  {
   "cell_type": "code",
   "execution_count": null,
   "metadata": {},
   "outputs": [],
   "source": [
    "#Ejemplo 3\n",
    "I = np.zeros((200,300), dtype=np.uint8)\n",
    "I[50,50]=255\n",
    "I[150,150]=255\n",
    "\n",
    "plt.figure()\n",
    "plt.imshow(I)"
   ]
  },
  {
   "cell_type": "code",
   "execution_count": null,
   "metadata": {},
   "outputs": [],
   "source": [
    "# Ejemplo 4\n",
    "I = np.zeros((200,300), dtype=np.uint8)\n",
    "I[50,50]=255\n",
    "I[50,250]=255\n",
    "I[150,150]=255\n",
    "\n",
    "plt.figure()\n",
    "plt.imshow(I)\n"
   ]
  },
  {
   "attachments": {},
   "cell_type": "markdown",
   "metadata": {},
   "source": [
    "#### Mostrar el funcionamiento de lineas_hough sobre la imagen trapecio.png\n",
    "Comentar resultados al variar la resolución en el espacio de parámetros (m y n en la función lineas_hough)"
   ]
  },
  {
   "cell_type": "code",
   "execution_count": null,
   "metadata": {},
   "outputs": [],
   "source": []
  },
  {
   "attachments": {},
   "cell_type": "markdown",
   "metadata": {},
   "source": [
    "### 5. Aplicación: Segmentación de imágenes de documentos"
   ]
  },
  {
   "attachments": {},
   "cell_type": "markdown",
   "metadata": {},
   "source": [
    "En esta parte se usará un subset de la base RVL-CDIP que contiene imágenes de documentos escaneados.\n",
    "https://adamharley.com/rvl-cdip/  \n",
    "\n",
    "\n",
    "Utilizando herramientas vistas en el curso (ej. análisis en frecuencia, transformaciones geométricas, segmentación por umbral, detección de bordes, lineas y regiones, morfología, etiquetado de regiones, entre otros) se buscará identificar en cada imagen:  \n",
    "\n",
    "**Tareas**\n",
    "\n",
    "1. Orientación general del documento en la imagen.  ¿El documento está en formato vertical o está apaisado? \n",
    "2. Ángulo de giro. Ángulo a girar el documento en sentido horario para que las líneas y/o texto queden horizontales.  \n",
    "3. ¿El documento es un formulario o tabla? Se entenderá por formulario o tabla un documento que cuente con algunas líneas verticales y horizontales. \n",
    "4. ¿El documento tiene columnas de texto? El documento tiene agrupaciones de texto en columnas por varias filas.  \n",
    "5. Límites horizontales del documento. Indicar la columna de inicio y fin del núcleo principal del documento. En caso que (4) sea afirmativo, indicar también las posiciones horizontales que separan las columnas de texto.    \n",
    "6. Alto de líneas. Distancia vertical en píxeles entre la línea de base de una fila y la de la siguiente.  \n",
    "7. Ancho de letra. En los casos que el documento tenga un tipo de letra \"monospaced\" (https://en.wikipedia.org/wiki/Monospaced_font) se podrá determinar el ancho de letra como la distancia horizontal en píxeles entre el comienzo de una letra y de la siguiente. \n",
    "8. ¿El documento es sólo texto y/o líneas o contiene alguna figura? Se entenderá por figura un conjunto conexo de píxeles mayor al 1% del área de la imagen y que no está compuesto por texto/líneas y que tampoco es una región quasi-uniforme (ej. un rectángulo quasi-uniforme no se considera una figura)\n",
    "\n",
    "En el pdf adjunto a este notebook hay ejemplos de las imágenes de documentos y de los resultados esperados para cada una de las tareas. \n"
   ]
  },
  {
   "attachments": {},
   "cell_type": "markdown",
   "metadata": {},
   "source": [
    "**Herramientas**  \n",
    "Para la resolución de esta parte se podrá usar funciones de numpy, scipy, scikit-image, de OpenCV y herramientas de Fiji. \n",
    "\n",
    "**Resultados esperados**\n",
    "* El problema se plantea en forma abierta y por lo tanto no hay una forma única de resolver cada tarea. La idea es que exploren las distintas técnicas y algoritmos vistos a lo largo del curso sobre un problema concreto\n",
    "* El conjunto de imágenes que les dejamos disponibles tiene cierta variabilidad por lo que, para las distintas tareas, habrá algunas imágenes más complicadas que otras. No esperen un funcionamiento perfecto de sus soluciones. \n",
    "* Para cada tarea implementada, \n",
    "  * se valorará que comenten él o los posibles métodos que la podrían resolver, antes de realizar una implementación concreta\n",
    "  * implementen alguno de esos métodos en la función cuyo esqueleto le pasamos. Pueden hacer funciones auxiliares si lo necesitan. Alternativamente pueden hacer un procedimiento o una macro si usan Fiji.\n",
    "  * muestren tests de su método sobre algunas imágenes\n",
    "  * opcionalmente pueden mostrar, si la tarea lo permite, resultados cuantitativos sobre el conjunto de imágenes (por ejemplo el porcentaje de acierto)\n",
    "  * comenten en qué casos funciona y qué casos son difíciles para el método (no es necesario un listado exhaustivo)  \n",
    "* Implementaciones  \n",
    "  * No se espera que un método implementado para una tarea funcione para todas o casi todas las imágenes. \n",
    "  * Las tareas tienen diferente dificultad. Para algunas será más sencillo hacer un método general y para otras se podrá hacer algo que funcione para un conjunto más restringido de imágenes. Hagan métodos no muy extensos, los testean y discuten resultados.\n",
    "  * Realizar al menos 5 de las 8 tareas\n",
    "   \n",
    "  \n",
    "\n"
   ]
  },
  {
   "cell_type": "markdown",
   "metadata": {},
   "source": []
  },
  {
   "attachments": {},
   "cell_type": "markdown",
   "metadata": {},
   "source": [
    "##### 5.1 Orientación general"
   ]
  },
  {
   "attachments": {},
   "cell_type": "markdown",
   "metadata": {},
   "source": [
    "Discusión de métodos, pruebas"
   ]
  },
  {
   "cell_type": "code",
   "execution_count": null,
   "metadata": {},
   "outputs": [],
   "source": []
  },
  {
   "attachments": {},
   "cell_type": "markdown",
   "metadata": {},
   "source": [
    "Implementación"
   ]
  },
  {
   "cell_type": "code",
   "execution_count": 11,
   "metadata": {},
   "outputs": [],
   "source": [
    "def tiene_orientacion_vertical(I_doc):\n",
    "    \"\"\"\n",
    "    Determina la orientación del documento en la imagen.\n",
    "\n",
    "    Args:\n",
    "    -----\n",
    "      I_doc (2D array): imagen con un documento escaneado.\n",
    "\n",
    "    Returns:\n",
    "    --------\n",
    "    orientacion_vertical (bool): Orientación del documento, puede ser 'vertical' (True) o 'apaisado' (False)\n",
    "    \"\"\"\n",
    "\n",
    "    # IMPLEMENTAR #\n",
    "\n",
    "    return orientacion_vertical"
   ]
  },
  {
   "attachments": {},
   "cell_type": "markdown",
   "metadata": {},
   "source": [
    "Tests sobre imágenes"
   ]
  },
  {
   "cell_type": "code",
   "execution_count": null,
   "metadata": {},
   "outputs": [],
   "source": []
  },
  {
   "attachments": {},
   "cell_type": "markdown",
   "metadata": {},
   "source": [
    "##### 5.2 Ángulo de giro"
   ]
  },
  {
   "cell_type": "markdown",
   "metadata": {},
   "source": [
    "Discusión de métodos, pruebas"
   ]
  },
  {
   "cell_type": "code",
   "execution_count": null,
   "metadata": {},
   "outputs": [],
   "source": []
  },
  {
   "cell_type": "markdown",
   "metadata": {},
   "source": [
    "Implementación"
   ]
  },
  {
   "cell_type": "code",
   "execution_count": null,
   "metadata": {},
   "outputs": [],
   "source": [
    "def angulo_de_giro(I_doc):\n",
    "    \"\"\"\n",
    "    Determina el ángulo (en grados) a girar la imagen en sentido horario \n",
    "    para que las líneas y/o texto del documento queden horizontales.\n",
    "\n",
    "    Args:\n",
    "    -----\n",
    "      I_doc (2D array): imagen con un documento escaneado.\n",
    "\n",
    "    Returns:\n",
    "    --------\n",
    "    angulo (double): ángulo en grados\n",
    "    \"\"\"\n",
    "\n",
    "    # IMPLEMENTAR #\n",
    "\n",
    "    return angulo"
   ]
  },
  {
   "cell_type": "markdown",
   "metadata": {},
   "source": [
    "Tests sobre imágenes"
   ]
  },
  {
   "cell_type": "code",
   "execution_count": null,
   "metadata": {},
   "outputs": [],
   "source": []
  },
  {
   "attachments": {},
   "cell_type": "markdown",
   "metadata": {},
   "source": [
    "##### 5.3 Es un formulario o tabla ?"
   ]
  },
  {
   "cell_type": "markdown",
   "metadata": {},
   "source": [
    "Discusión de métodos, pruebas"
   ]
  },
  {
   "cell_type": "code",
   "execution_count": null,
   "metadata": {},
   "outputs": [],
   "source": []
  },
  {
   "cell_type": "markdown",
   "metadata": {},
   "source": [
    "Implementación"
   ]
  },
  {
   "cell_type": "code",
   "execution_count": null,
   "metadata": {},
   "outputs": [],
   "source": [
    "def es_tipo_tabla(I_doc):\n",
    "    \"\"\"\n",
    "    Determina si el documento en la imagen es tipo formulario/tabla\n",
    "\n",
    "    Args:\n",
    "    -----\n",
    "      I_doc (2D array): imagen con un documento escaneado.\n",
    "\n",
    "    Returns:\n",
    "    --------\n",
    "    es_tabla (bool): Verdadero si el documento en la imagen es tipo formulario/tabla\n",
    "    \"\"\"\n",
    "\n",
    "    # IMPLEMENTAR #\n",
    "\n",
    "    return es_tabla"
   ]
  },
  {
   "cell_type": "markdown",
   "metadata": {},
   "source": [
    "Tests sobre imágenes"
   ]
  },
  {
   "cell_type": "code",
   "execution_count": null,
   "metadata": {},
   "outputs": [],
   "source": []
  },
  {
   "attachments": {},
   "cell_type": "markdown",
   "metadata": {},
   "source": [
    "##### 5.4 ¿El documento tiene texto en columnas?"
   ]
  },
  {
   "cell_type": "markdown",
   "metadata": {},
   "source": [
    "Discusión de métodos, pruebas"
   ]
  },
  {
   "cell_type": "code",
   "execution_count": null,
   "metadata": {},
   "outputs": [],
   "source": []
  },
  {
   "cell_type": "markdown",
   "metadata": {},
   "source": [
    "Implementación"
   ]
  },
  {
   "cell_type": "code",
   "execution_count": null,
   "metadata": {},
   "outputs": [],
   "source": [
    "def tiene_texto_en_columnas(I_doc):\n",
    "    \"\"\"\n",
    "    Determina si el documento tiene texto en columnas\n",
    "\n",
    "    Args:\n",
    "    -----\n",
    "      I_doc (2D array): imagen con un documento escaneado.\n",
    "\n",
    "    Returns:\n",
    "    --------\n",
    "    tiene_columnas (bool): Verdadero en caso de tener columnas\n",
    "    \"\"\"\n",
    "\n",
    "    # IMPLEMENTAR #\n",
    "\n",
    "    return tiene_columnas"
   ]
  },
  {
   "cell_type": "markdown",
   "metadata": {},
   "source": [
    "Tests sobre imágenes"
   ]
  },
  {
   "cell_type": "code",
   "execution_count": null,
   "metadata": {},
   "outputs": [],
   "source": []
  },
  {
   "attachments": {},
   "cell_type": "markdown",
   "metadata": {},
   "source": [
    "##### 5.5 Límites horizontales"
   ]
  },
  {
   "cell_type": "markdown",
   "metadata": {},
   "source": [
    "Discusión de métodos, pruebas"
   ]
  },
  {
   "cell_type": "code",
   "execution_count": null,
   "metadata": {},
   "outputs": [],
   "source": []
  },
  {
   "cell_type": "markdown",
   "metadata": {},
   "source": [
    "Implementación"
   ]
  },
  {
   "cell_type": "code",
   "execution_count": null,
   "metadata": {},
   "outputs": [],
   "source": [
    "def limites_horizontales(I_doc):\n",
    "    \"\"\"\n",
    "    Devuelve una lista de valores con las columnas de inicio y fin del contenido del documento\n",
    "    y, si contiene columnas, las posiciones horizontales que separan las columnas\n",
    "\n",
    "    Args:\n",
    "    -----\n",
    "      I_doc (2D array): imagen con un documento escaneado.\n",
    "\n",
    "    Returns:\n",
    "    --------\n",
    "    limites (list): [inicio, fin] si el documento no contiene texto en columnas\n",
    "                    [inicio, sep1,...,sepN, fin] si contiene columnas \n",
    "    \"\"\"\n",
    "\n",
    "    # IMPLEMENTAR #\n",
    "\n",
    "    return limites"
   ]
  },
  {
   "cell_type": "markdown",
   "metadata": {},
   "source": [
    "Tests sobre imágenes"
   ]
  },
  {
   "cell_type": "code",
   "execution_count": null,
   "metadata": {},
   "outputs": [],
   "source": []
  },
  {
   "attachments": {},
   "cell_type": "markdown",
   "metadata": {},
   "source": [
    "##### 5.6 Alto de línea"
   ]
  },
  {
   "cell_type": "markdown",
   "metadata": {},
   "source": [
    "Discusión de métodos, pruebas"
   ]
  },
  {
   "cell_type": "code",
   "execution_count": null,
   "metadata": {},
   "outputs": [],
   "source": []
  },
  {
   "cell_type": "markdown",
   "metadata": {},
   "source": [
    "Implementación"
   ]
  },
  {
   "cell_type": "code",
   "execution_count": null,
   "metadata": {},
   "outputs": [],
   "source": [
    "def alto_de_linea(I_doc):\n",
    "    \"\"\"\n",
    "    Devuelve el alto de línea del documento\n",
    "\n",
    "    Args:\n",
    "    -----\n",
    "      I_doc (2D array): imagen con un documento escaneado.\n",
    "\n",
    "    Returns:\n",
    "    --------\n",
    "    alto (int o double): Alto de la línea \n",
    "    \"\"\"\n",
    "\n",
    "    # IMPLEMENTAR #\n",
    "\n",
    "    return alto"
   ]
  },
  {
   "cell_type": "markdown",
   "metadata": {},
   "source": [
    "Tests sobre imágenes"
   ]
  },
  {
   "cell_type": "code",
   "execution_count": null,
   "metadata": {},
   "outputs": [],
   "source": []
  },
  {
   "attachments": {},
   "cell_type": "markdown",
   "metadata": {},
   "source": [
    "##### 5.7 Ancho de letra"
   ]
  },
  {
   "cell_type": "markdown",
   "metadata": {},
   "source": [
    "Discusión de métodos, pruebas"
   ]
  },
  {
   "cell_type": "code",
   "execution_count": null,
   "metadata": {},
   "outputs": [],
   "source": []
  },
  {
   "cell_type": "markdown",
   "metadata": {},
   "source": [
    "Implementación"
   ]
  },
  {
   "cell_type": "code",
   "execution_count": 10,
   "metadata": {},
   "outputs": [],
   "source": [
    "def ancho_de_letra(I_doc):\n",
    "    \"\"\"\n",
    "    Devuelve el ancho de letra del documento\n",
    "    Se supone que la imagen pasada comprende un documento que, mayoritariamente,\n",
    "    tiene tipo de letra \"monospaced\" \n",
    "\n",
    "    Args:\n",
    "    -----\n",
    "      I_doc (2D array): imagen con un documento escaneado.\n",
    "\n",
    "    Returns:\n",
    "    --------\n",
    "    ancho (int o double): ancho de letra \n",
    "    \"\"\"\n",
    "\n",
    "    # IMPLEMENTAR #\n",
    "\n",
    "    return ancho"
   ]
  },
  {
   "cell_type": "markdown",
   "metadata": {},
   "source": [
    "Tests sobre imágenes"
   ]
  },
  {
   "cell_type": "code",
   "execution_count": null,
   "metadata": {},
   "outputs": [],
   "source": []
  },
  {
   "attachments": {},
   "cell_type": "markdown",
   "metadata": {},
   "source": [
    "##### 5.8 ¿El documento contiene figuras?"
   ]
  },
  {
   "cell_type": "markdown",
   "metadata": {},
   "source": [
    "Discusión de métodos, pruebas"
   ]
  },
  {
   "cell_type": "code",
   "execution_count": null,
   "metadata": {},
   "outputs": [],
   "source": []
  },
  {
   "cell_type": "markdown",
   "metadata": {},
   "source": [
    "Implementación"
   ]
  },
  {
   "cell_type": "code",
   "execution_count": null,
   "metadata": {},
   "outputs": [],
   "source": [
    "def tiene_alguna_figura(I_doc):\n",
    "    \"\"\"\n",
    "    Determina si el documento tiene alguna figura\n",
    "\n",
    "    Args:\n",
    "    -----\n",
    "      I_doc (2D array): imagen con un documento escaneado.\n",
    "\n",
    "    Returns:\n",
    "    --------\n",
    "    tiene_figura (bool): Verdadero en caso de tener alguna figura\n",
    "    \"\"\"\n",
    "\n",
    "    # IMPLEMENTAR #\n",
    "\n",
    "    return tiene_figura"
   ]
  },
  {
   "cell_type": "markdown",
   "metadata": {},
   "source": [
    "Tests sobre imágenes"
   ]
  },
  {
   "cell_type": "code",
   "execution_count": null,
   "metadata": {},
   "outputs": [],
   "source": []
  }
 ],
 "metadata": {
  "kernelspec": {
   "display_name": "Python 3 (ipykernel)",
   "language": "python",
   "name": "python3"
  },
  "language_info": {
   "codemirror_mode": {
    "name": "ipython",
    "version": 3
   },
   "file_extension": ".py",
   "mimetype": "text/x-python",
   "name": "python",
   "nbconvert_exporter": "python",
   "pygments_lexer": "ipython3",
   "version": "3.9.6"
  },
  "latex_envs": {
   "LaTeX_envs_menu_present": true,
   "autoclose": false,
   "autocomplete": true,
   "bibliofile": "biblio.bib",
   "cite_by": "apalike",
   "current_citInitial": 1,
   "eqLabelWithNumbers": true,
   "eqNumInitial": 1,
   "hotkeys": {
    "equation": "Ctrl-E",
    "itemize": "Ctrl-I"
   },
   "labels_anchors": false,
   "latex_user_defs": false,
   "report_style_numbering": false,
   "user_envs_cfg": false
  },
  "toc": {
   "base_numbering": 1,
   "nav_menu": {},
   "number_sections": false,
   "sideBar": true,
   "skip_h1_title": false,
   "title_cell": "Table of Contents",
   "title_sidebar": "Contents",
   "toc_cell": false,
   "toc_position": {},
   "toc_section_display": true,
   "toc_window_display": false
  },
  "varInspector": {
   "cols": {
    "lenName": 16,
    "lenType": 16,
    "lenVar": 40
   },
   "kernels_config": {
    "python": {
     "delete_cmd_postfix": "",
     "delete_cmd_prefix": "del ",
     "library": "var_list.py",
     "varRefreshCmd": "print(var_dic_list())"
    },
    "r": {
     "delete_cmd_postfix": ") ",
     "delete_cmd_prefix": "rm(",
     "library": "var_list.r",
     "varRefreshCmd": "cat(var_dic_list()) "
    }
   },
   "types_to_exclude": [
    "module",
    "function",
    "builtin_function_or_method",
    "instance",
    "_Feature"
   ],
   "window_display": false
  }
 },
 "nbformat": 4,
 "nbformat_minor": 2
}
