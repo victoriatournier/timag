{
 "cells": [
  {
   "cell_type": "markdown",
   "metadata": {},
   "source": [
    "# Tratamiento de imágenes - Trabajos prácticos\n",
    "# Práctico 3 - Transformadas\n"
   ]
  },
  {
   "cell_type": "code",
   "execution_count": null,
   "metadata": {},
   "outputs": [],
   "source": [
    "import numpy as np\n",
    "import matplotlib.pyplot as plt\n",
    "from skimage.io import imread, imsave\n",
    "\n",
    "# FORMAS DE VER LAS GRAFICAS --------------------\n",
    "# ELEGIR UNA DE LAS OPCIONES Y DES-COMENTAR (sacar # de la linea)\n",
    "# ----------------\n",
    "# a) graficas en línea  entre las celdas (no interactivo)\n",
    "%matplotlib inline\n",
    "# ---------------- \n",
    "# b) graficas en línea  entre las celdas (interactivo)\n",
    "# %matplotlib notebook\n",
    "# ----------------\n",
    "# c) graficas en ventanas externas (abre una ventana por cada figura)\n",
    "# %matplotlib\n",
    "# ----------------\n",
    "# d) Si se usa \"jupyter lab\" en lugar de \"jupyter notebook\" usar %matplotlib widget en lugar de %matplotlib notebook \n",
    "# requiere instalar el modulo \"ipympl\". Ver https://stackoverflow.com/questions/51922480/javascript-error-ipython-is-not-defined-in-jupyterlab#56416229\n",
    "# %matplotlib widget\n",
    "#---------------------------------------------------"
   ]
  },
  {
   "cell_type": "code",
   "execution_count": null,
   "metadata": {},
   "outputs": [],
   "source": [
    "from scipy.fftpack import fft2,ifft2,ffrshift, ifftshift\n",
    "from scipy.ndimage import convolve\n",
    "from scipy.signal import "
   ]
  },
  {
   "cell_type": "markdown",
   "metadata": {},
   "source": [
    "## 1)\tVisualización"
   ]
  },
  {
   "cell_type": "markdown",
   "metadata": {},
   "source": [
    "a)\tRealizar la DFT de una imagen. Visualizar parte real, parte imaginaria, módulo y fase. Visualizar con y sin la aplicación de fftshift al resultado.  "
   ]
  },
  {
   "cell_type": "code",
   "execution_count": null,
   "metadata": {},
   "outputs": [],
   "source": []
  },
  {
   "cell_type": "markdown",
   "metadata": {},
   "source": [
    "b)\tVisualizar [log(1+modulo)]. ¿Por qué mejora esto la visualización del módulo? "
   ]
  },
  {
   "cell_type": "code",
   "execution_count": null,
   "metadata": {},
   "outputs": [],
   "source": []
  },
  {
   "cell_type": "markdown",
   "metadata": {},
   "source": [
    "c)\tVisualizar [log(1+modulo)] como una superficie."
   ]
  },
  {
   "cell_type": "code",
   "execution_count": null,
   "metadata": {},
   "outputs": [],
   "source": []
  },
  {
   "cell_type": "markdown",
   "metadata": {},
   "source": [
    "## 2)\tReconstrucción"
   ]
  },
  {
   "cell_type": "markdown",
   "metadata": {},
   "source": [
    "a)\tRealizar la DFT de una imagen. Antitransformar considerando:\n",
    "* Sólo el módulo de la transformada (poner fase constante cero o fase aleatoria)  \n",
    "* Sólo la fase de la transformada (poner módulo constante)  \n",
    "* Sólo la parte real de la transformada (poner parte imaginaria cero)\n",
    "* Sólo la parte imaginaria de la transformada (poner parte real cero)\n",
    "* Visualizar y comentar resultados."
   ]
  },
  {
   "cell_type": "code",
   "execution_count": null,
   "metadata": {},
   "outputs": [],
   "source": []
  },
  {
   "cell_type": "markdown",
   "metadata": {},
   "source": [
    "b)\tTomar dos imágenes y sintetizar una nueva imagen a partir del módulo de la DFT de una y la fase de la DFT de la otra. \n",
    "Visualizar y comentar resultados"
   ]
  },
  {
   "cell_type": "code",
   "execution_count": null,
   "metadata": {},
   "outputs": [],
   "source": []
  },
  {
   "cell_type": "markdown",
   "metadata": {},
   "source": [
    "## 3)\tSubmuestreo\n",
    "a) Levantar la imagen trapo.jpg de tamaño 512x512 y luego submuestrear %4 (tomar un pixel cada cuatro en filas y columnas y obtener imágenes 128x128). Visualizar las imágenes originales y las submuestreadas. Explicar gráficamente los resultados. "
   ]
  },
  {
   "cell_type": "code",
   "execution_count": null,
   "metadata": {},
   "outputs": [],
   "source": []
  },
  {
   "cell_type": "markdown",
   "metadata": {},
   "source": [
    "b) Proponer e implementar una solución para los artefactos generados al submuestrear. "
   ]
  },
  {
   "cell_type": "code",
   "execution_count": null,
   "metadata": {},
   "outputs": [],
   "source": []
  },
  {
   "cell_type": "markdown",
   "metadata": {},
   "source": [
    "## 4)\tFiltrado de ruido periódico\n",
    "\n",
    "Sobre una imagen con un patrón regular de interferencia superpuesto, eliminar por filtrado en frecuencia la componente interferente. Discutir los resultados.  \n",
    "Imagen a utilizar: lupin_seno.pnm"
   ]
  },
  {
   "cell_type": "code",
   "execution_count": null,
   "metadata": {},
   "outputs": [],
   "source": []
  },
  {
   "cell_type": "markdown",
   "metadata": {},
   "source": [
    "## 5) Zoom"
   ]
  },
  {
   "cell_type": "markdown",
   "metadata": {},
   "source": [
    "a)\tMagnificar una imagen, haciendo un zoom de por ejemplo x1.3 . Para ello realizar la DFT, rellenar con ceros y antitransformar. ¿Por qué funciona? Explicar en 1D o 2D.      \n",
    "Imagenes a probar: lena.bmp, imágenes artificiales (letras, pulsos, etc.)"
   ]
  },
  {
   "cell_type": "code",
   "execution_count": null,
   "metadata": {},
   "outputs": [],
   "source": []
  },
  {
   "cell_type": "markdown",
   "metadata": {},
   "source": [
    "b)\tIdentificar en qué regiones de la imagen se visualizan distorsiones introducidas por este proceso y explicar el fenómeno. "
   ]
  },
  {
   "cell_type": "markdown",
   "metadata": {},
   "source": [
    "** Respuesta: ** ..."
   ]
  },
  {
   "cell_type": "markdown",
   "metadata": {},
   "source": [
    "c)\tRepetir (a) y (b) simetrizando la imagen original antes de la TF. Comparar. "
   ]
  },
  {
   "cell_type": "code",
   "execution_count": null,
   "metadata": {},
   "outputs": [],
   "source": []
  },
  {
   "cell_type": "markdown",
   "metadata": {},
   "source": [
    "d)\tComparar con los resultados que se obtienen al realizar el zoom con interpolación por pixel más cercano y con interpolación bilineal"
   ]
  },
  {
   "cell_type": "code",
   "execution_count": null,
   "metadata": {},
   "outputs": [],
   "source": []
  },
  {
   "cell_type": "markdown",
   "metadata": {},
   "source": [
    "## 6)\tTemplate matching"
   ]
  },
  {
   "cell_type": "markdown",
   "metadata": {},
   "source": [
    "a)\tEn la imagen “escaneado2.jpg” encontrar las apariciones de las frases “are”, “knowledge” e “image processing” mediante correlación espacial y mediante el uso de la DFT."
   ]
  },
  {
   "cell_type": "code",
   "execution_count": null,
   "metadata": {},
   "outputs": [],
   "source": []
  },
  {
   "cell_type": "markdown",
   "metadata": {},
   "source": [
    "b) Comparar los resultados y tiempos de procesamiento de ambos métodos"
   ]
  },
  {
   "cell_type": "markdown",
   "metadata": {},
   "source": [
    "** Respuesta: ** ..."
   ]
  },
  {
   "cell_type": "markdown",
   "metadata": {},
   "source": [
    "## 7)\tCompresión por bloques\n",
    "Dada una imágen dividirla en bloques de 8x8 pixeles. Para cada bloque 8x8: \n",
    "*\tCalcular coeficientes transformados\n",
    "*\tReconstruir el bloque con el 10%, 30%, 50% y 80% de los coeficientes más importantes\n",
    "\n",
    "Reconstruir la imagen con los bloques reconstruídos"
   ]
  },
  {
   "cell_type": "code",
   "execution_count": null,
   "metadata": {},
   "outputs": [],
   "source": []
  }
 ],
 "metadata": {
  "kernelspec": {
   "display_name": "Python 3",
   "language": "python",
   "name": "python3"
  },
  "language_info": {
   "codemirror_mode": {
    "name": "ipython",
    "version": 3
   },
   "file_extension": ".py",
   "mimetype": "text/x-python",
   "name": "python",
   "nbconvert_exporter": "python",
   "pygments_lexer": "ipython3",
   "version": "3.9.6"
  },
  "latex_envs": {
   "LaTeX_envs_menu_present": true,
   "autoclose": false,
   "autocomplete": true,
   "bibliofile": "biblio.bib",
   "cite_by": "apalike",
   "current_citInitial": 1,
   "eqLabelWithNumbers": true,
   "eqNumInitial": 1,
   "hotkeys": {
    "equation": "Ctrl-E",
    "itemize": "Ctrl-I"
   },
   "labels_anchors": false,
   "latex_user_defs": false,
   "report_style_numbering": false,
   "user_envs_cfg": false
  },
  "toc": {
   "base_numbering": 1,
   "nav_menu": {},
   "number_sections": false,
   "sideBar": true,
   "skip_h1_title": false,
   "title_cell": "Table of Contents",
   "title_sidebar": "Contents",
   "toc_cell": false,
   "toc_position": {},
   "toc_section_display": true,
   "toc_window_display": true
  },
  "varInspector": {
   "cols": {
    "lenName": 16,
    "lenType": 16,
    "lenVar": 40
   },
   "kernels_config": {
    "python": {
     "delete_cmd_postfix": "",
     "delete_cmd_prefix": "del ",
     "library": "var_list.py",
     "varRefreshCmd": "print(var_dic_list())"
    },
    "r": {
     "delete_cmd_postfix": ") ",
     "delete_cmd_prefix": "rm(",
     "library": "var_list.r",
     "varRefreshCmd": "cat(var_dic_list()) "
    }
   },
   "types_to_exclude": [
    "module",
    "function",
    "builtin_function_or_method",
    "instance",
    "_Feature"
   ],
   "window_display": false
  }
 },
 "nbformat": 4,
 "nbformat_minor": 1
}
