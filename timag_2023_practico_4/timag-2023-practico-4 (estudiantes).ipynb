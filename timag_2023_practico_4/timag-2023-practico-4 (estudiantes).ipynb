{
 "cells": [
  {
   "attachments": {},
   "cell_type": "markdown",
   "metadata": {},
   "source": [
    "# Tratamiento de imágenes - Trabajos prácticos\n",
    "# Práctico 4 - Transformaciones geométricas\n"
   ]
  },
  {
   "cell_type": "code",
   "execution_count": 1,
   "metadata": {},
   "outputs": [],
   "source": [
    "import numpy as np\n",
    "import matplotlib.pyplot as plt\n",
    "from skimage.io import imread, imsave\n",
    "\n",
    "# FORMAS DE VER LAS GRAFICAS --------------------\n",
    "# ELEGIR UNA DE LAS OPCIONES Y DES-COMENTAR (sacar # de la linea)\n",
    "# ----------------\n",
    "# a) graficas en línea  entre las celdas (no interactivo)\n",
    "%matplotlib inline\n",
    "# ---------------- \n",
    "# b) graficas en línea  entre las celdas (interactivo)\n",
    "# %matplotlib notebook\n",
    "# ----------------\n",
    "# c) graficas en ventanas externas (abre una ventana por cada figura)\n",
    "# %matplotlib\n",
    "# ----------------\n",
    "# d) Si se usa \"jupyter lab\" en lugar de \"jupyter notebook\" usar %matplotlib widget en lugar de %matplotlib notebook \n",
    "# requiere instalar el modulo \"ipympl\". Ver https://stackoverflow.com/questions/51922480/javascript-error-ipython-is-not-defined-in-jupyterlab#56416229\n",
    "# %matplotlib widget\n",
    "#---------------------------------------------------\n",
    "\n",
    "\n",
    "# plt.rcParams['figure.figsize'] = (8.0, 6.0) # set default size of plots\n",
    "# plt.rcParams['image.cmap'] = 'gray'  # set default colormap\n"
   ]
  },
  {
   "cell_type": "markdown",
   "metadata": {},
   "source": [
    "## 1. Implementar una función que realice transformaciones proyectivas"
   ]
  },
  {
   "cell_type": "markdown",
   "metadata": {},
   "source": [
    "Ej. function J=transformar(I, MatrizTransformación, TipoInterpolacion)  \n",
    "donde MatrizTransformación es una matriz 3x3 y TipoInterpolacion puede ser 'bilineal' o 'vecino'"
   ]
  },
  {
   "cell_type": "code",
   "execution_count": null,
   "metadata": {},
   "outputs": [],
   "source": [
    "\n",
    "# Devuelve el nivel de gris interpolado correspondiente al punto\n",
    "# punto = (fila,columna)  \n",
    "# Si el punto está fuera de la imagen devuelve el valor \"color_de_fondo\"\n",
    "def bilineal(I, punto, color_de_fondo):\n",
    "    #implementar\n",
    "    \n",
    "    return valor_interpolado\n",
    "\n",
    "\n",
    "# Devuelve el nivel de gris interpolado correspondiente al punto\n",
    "# punto = (fila,columna)  \n",
    "# Si el punto está fuera de la imagen devuelve el valor \"color_de_fondo\"\n",
    "def vecino(img, punto, color_de_fondo):\n",
    "    #implementar\n",
    "    \n",
    "    return valor_interpolado\n",
    "\n",
    "\n",
    "def transformar(img, T, tipo_interpolacion='vecino', color_de_fondo=0):\n",
    "    #implementar\n",
    "    \n",
    "    return img_transformada"
   ]
  },
  {
   "cell_type": "markdown",
   "metadata": {},
   "source": [
    "## 2. Mostrar ejemplos de transformaciones isométricas, afines y proyectivas  con diferentes interpolaciones"
   ]
  },
  {
   "cell_type": "markdown",
   "metadata": {},
   "source": [
    "### Mostrar una rotación con origen en vértice superior izquierdo de la imagen (origen de coordenadas)"
   ]
  },
  {
   "cell_type": "code",
   "execution_count": null,
   "metadata": {},
   "outputs": [],
   "source": []
  },
  {
   "cell_type": "markdown",
   "metadata": {},
   "source": [
    "### Mostrar una rotación con origen en el centro de la imagen\n",
    "La transformación de rotación en el centro de la imagen puede calcularse como la composición de una traslación, una rotación y una traslación.  "
   ]
  },
  {
   "cell_type": "code",
   "execution_count": null,
   "metadata": {},
   "outputs": [],
   "source": [
    "# Muestre las matrices correspondientes a las tres transformaciones \n",
    "\n",
    "\n",
    "\n",
    "# Calcule la matriz de rotación en el centro como la composición de las tres transformaciones anteriores\n",
    "\n",
    "\n",
    "\n",
    "# Aplique la transformación y muestre el resultado\n",
    "\n"
   ]
  },
  {
   "cell_type": "markdown",
   "metadata": {},
   "source": [
    "### Mostrar una transformación afin "
   ]
  },
  {
   "cell_type": "code",
   "execution_count": null,
   "metadata": {},
   "outputs": [],
   "source": []
  },
  {
   "cell_type": "markdown",
   "metadata": {},
   "source": [
    "### Mostrar una transformación proyectiva"
   ]
  },
  {
   "cell_type": "code",
   "execution_count": null,
   "metadata": {},
   "outputs": [],
   "source": []
  },
  {
   "cell_type": "markdown",
   "metadata": {},
   "source": [
    "## 3. Mostrar la degradación que sufre una imagen al realizar los distintos tipos de interpolaciones:  \n",
    "Rotar una imagen alrededor del centro de la imagen 36 veces de a 10º cada vez en forma \n",
    "acumulada. Mostrar el resultado para diferentes interpolaciones"
   ]
  },
  {
   "cell_type": "code",
   "execution_count": null,
   "metadata": {},
   "outputs": [],
   "source": [
    "\n",
    "\n",
    "\n",
    "\n",
    "\n"
   ]
  },
  {
   "cell_type": "markdown",
   "metadata": {},
   "source": [
    "## 4. Cálculo de homografía\n",
    "Calcular una homografía a partir de 4 o más puntos"
   ]
  },
  {
   "cell_type": "code",
   "execution_count": null,
   "metadata": {},
   "outputs": [],
   "source": [
    "# Entradas:\n",
    "#    puntosA   Nx2\n",
    "#    puntosB   Nx2\n",
    "#    con N>=4\n",
    "# Salida\n",
    "#    H         3x3    \n",
    "def calcularHomografia(puntosA, puntosB):\n",
    "    #implementar\n",
    "    \n",
    "    return H\n",
    "    "
   ]
  },
  {
   "cell_type": "markdown",
   "metadata": {},
   "source": [
    "Chequear la función implementada"
   ]
  },
  {
   "cell_type": "code",
   "execution_count": null,
   "metadata": {},
   "outputs": [],
   "source": [
    "# chequear la función calcularHomografía con un conjunto de puntos\n",
    "origen = np.array([(0,0), (0,100), (100, 100), (100, 0)])\n",
    "destino = np.array([(0,0), (0,100), (100, 50), (100, 0)])\n",
    "print(origen)\n",
    "print(destino)\n",
    "\n",
    "# calcular la homografía\n",
    "\n",
    "\n",
    "# aplicar a los puntos origen y verificar si el resultado son los puntos destino\n",
    "\n",
    "\n"
   ]
  },
  {
   "cell_type": "markdown",
   "metadata": {},
   "source": [
    "## 5. Rectificación de una imagen\n",
    "\n",
    "A partir de la imagen de una fachada, calcular la homografía y rectificar la imagen.  \n",
    "La imagen de salida quedará como una vista de frente de la fachada.   \n",
    "\n",
    "Se tomarán 4 puntos en la imagen de origen (puntos origen) que en la imagen destino deban quedar como los vértices de un rectángulo. Se calculará la homografía entre los puntos origen y destino y se aplicará dicha transformación a la imagen.\n"
   ]
  },
  {
   "cell_type": "code",
   "execution_count": null,
   "metadata": {},
   "outputs": [],
   "source": [
    "# seleccionar los puntos origen y los puntos de destino \n",
    "# la selección podrá realizarse manualmente o mediante un \"ginput\"\n",
    "\n",
    "\n",
    "\n",
    "# calcular la homografía\n",
    "\n",
    "\n",
    "# aplicar la transformación\n",
    "\n",
    "\n",
    "# mostrar el resultado"
   ]
  },
  {
   "cell_type": "markdown",
   "metadata": {},
   "source": [
    "## 6. Otras aplicaciones posibles\n",
    "\n",
    "###  Text Crawl \n",
    "Aplicar a la imagen de un texto el efecto \"Star Wars\".   \n",
    "[Star Wars opening crawl](https://en.wikipedia.org/wiki/Star_Wars_opening_crawl)   \n",
    "Generar un video que recorra el texto como en la película.\n",
    "\n",
    "### Pegar una imagen sobre otra\n",
    "Imagenes sugeridas: monalisa, casa  \n",
    "Pegar el cuadro sobre el techo de la cabaña\n"
   ]
  },
  {
   "cell_type": "code",
   "execution_count": null,
   "metadata": {},
   "outputs": [],
   "source": []
  },
  {
   "attachments": {},
   "cell_type": "markdown",
   "metadata": {},
   "source": [
    "## 7. Investigar bibliotecas\n",
    "\n",
    "Ver cómo se realizan las transformaciones geométricas con bibliotecas como:  \n",
    "\n",
    "### scikit-image\n",
    "https://scikit-image.org/docs/stable/api/skimage.transform.html  \n",
    "https://scikit-image.org/docs/stable/api/skimage.transform.html#skimage.transform.warp\n",
    "\n",
    "### OpenCv\n",
    "https://docs.opencv.org/4.7.0/da/d6e/tutorial_py_geometric_transformations.html\n"
   ]
  },
  {
   "cell_type": "code",
   "execution_count": null,
   "metadata": {},
   "outputs": [],
   "source": []
  }
 ],
 "metadata": {
  "kernelspec": {
   "display_name": "Python 3",
   "language": "python",
   "name": "python3"
  },
  "language_info": {
   "codemirror_mode": {
    "name": "ipython",
    "version": 3
   },
   "file_extension": ".py",
   "mimetype": "text/x-python",
   "name": "python",
   "nbconvert_exporter": "python",
   "pygments_lexer": "ipython3",
   "version": "3.8.10"
  },
  "latex_envs": {
   "LaTeX_envs_menu_present": true,
   "autoclose": false,
   "autocomplete": true,
   "bibliofile": "biblio.bib",
   "cite_by": "apalike",
   "current_citInitial": 1,
   "eqLabelWithNumbers": true,
   "eqNumInitial": 1,
   "hotkeys": {
    "equation": "Ctrl-E",
    "itemize": "Ctrl-I"
   },
   "labels_anchors": false,
   "latex_user_defs": false,
   "report_style_numbering": false,
   "user_envs_cfg": false
  },
  "toc": {
   "base_numbering": 1,
   "nav_menu": {},
   "number_sections": false,
   "sideBar": true,
   "skip_h1_title": false,
   "title_cell": "Table of Contents",
   "title_sidebar": "Contents",
   "toc_cell": false,
   "toc_position": {
    "height": "calc(100% - 180px)",
    "left": "10px",
    "top": "150px",
    "width": "215.167px"
   },
   "toc_section_display": true,
   "toc_window_display": true
  },
  "varInspector": {
   "cols": {
    "lenName": 16,
    "lenType": 16,
    "lenVar": 40
   },
   "kernels_config": {
    "python": {
     "delete_cmd_postfix": "",
     "delete_cmd_prefix": "del ",
     "library": "var_list.py",
     "varRefreshCmd": "print(var_dic_list())"
    },
    "r": {
     "delete_cmd_postfix": ") ",
     "delete_cmd_prefix": "rm(",
     "library": "var_list.r",
     "varRefreshCmd": "cat(var_dic_list()) "
    }
   },
   "types_to_exclude": [
    "module",
    "function",
    "builtin_function_or_method",
    "instance",
    "_Feature"
   ],
   "window_display": false
  }
 },
 "nbformat": 4,
 "nbformat_minor": 2
}
